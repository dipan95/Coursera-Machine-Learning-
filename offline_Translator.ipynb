{
  "nbformat": 4,
  "nbformat_minor": 0,
  "metadata": {
    "colab": {
      "provenance": [],
      "mount_file_id": "13iAUA9HITgBceGF5VUvSt8emrWBQ4hOt",
      "authorship_tag": "ABX9TyPR0S4OD4T/nPaekZGChXnM",
      "include_colab_link": true
    },
    "kernelspec": {
      "name": "python3",
      "display_name": "Python 3"
    },
    "language_info": {
      "name": "python"
    }
  },
  "cells": [
    {
      "cell_type": "markdown",
      "metadata": {
        "id": "view-in-github",
        "colab_type": "text"
      },
      "source": [
        "<a href=\"https://colab.research.google.com/github/dipan95/Coursera-Machine-Learning-/blob/master/offline_Translator.ipynb\" target=\"_parent\"><img src=\"https://colab.research.google.com/assets/colab-badge.svg\" alt=\"Open In Colab\"/></a>"
      ]
    },
    {
      "cell_type": "code",
      "execution_count": null,
      "metadata": {
        "id": "srZX7X8R8vaw"
      },
      "outputs": [],
      "source": []
    },
    {
      "cell_type": "code",
      "source": [
        "filename = \"/content/drive/MyDrive/Translat/16-122828-0002.wav\""
      ],
      "metadata": {
        "id": "J-ngWB2_-tfn"
      },
      "execution_count": null,
      "outputs": []
    },
    {
      "cell_type": "code",
      "source": [
        "pip install vosk"
      ],
      "metadata": {
        "colab": {
          "base_uri": "https://localhost:8080/"
        },
        "id": "YnVr027S-7S8",
        "outputId": "e7a1712f-95b4-4bb1-f77e-22958b54d6bf"
      },
      "execution_count": null,
      "outputs": [
        {
          "output_type": "stream",
          "name": "stdout",
          "text": [
            "Looking in indexes: https://pypi.org/simple, https://us-python.pkg.dev/colab-wheels/public/simple/\n",
            "Requirement already satisfied: vosk in /usr/local/lib/python3.7/dist-packages (0.3.44)\n",
            "Requirement already satisfied: websockets in /usr/local/lib/python3.7/dist-packages (from vosk) (10.4)\n",
            "Requirement already satisfied: tqdm in /usr/local/lib/python3.7/dist-packages (from vosk) (4.64.1)\n",
            "Requirement already satisfied: requests in /usr/local/lib/python3.7/dist-packages (from vosk) (2.23.0)\n",
            "Requirement already satisfied: cffi>=1.0 in /usr/local/lib/python3.7/dist-packages (from vosk) (1.15.1)\n",
            "Requirement already satisfied: srt in /usr/local/lib/python3.7/dist-packages (from vosk) (3.5.2)\n",
            "Requirement already satisfied: pycparser in /usr/local/lib/python3.7/dist-packages (from cffi>=1.0->vosk) (2.21)\n",
            "Requirement already satisfied: certifi>=2017.4.17 in /usr/local/lib/python3.7/dist-packages (from requests->vosk) (2022.9.24)\n",
            "Requirement already satisfied: urllib3!=1.25.0,!=1.25.1,<1.26,>=1.21.1 in /usr/local/lib/python3.7/dist-packages (from requests->vosk) (1.24.3)\n",
            "Requirement already satisfied: chardet<4,>=3.0.2 in /usr/local/lib/python3.7/dist-packages (from requests->vosk) (3.0.4)\n",
            "Requirement already satisfied: idna<3,>=2.5 in /usr/local/lib/python3.7/dist-packages (from requests->vosk) (2.10)\n"
          ]
        }
      ]
    },
    {
      "cell_type": "code",
      "source": [
        "#pip install pyaudio"
      ],
      "metadata": {
        "id": "3vFX0cty_KLf"
      },
      "execution_count": null,
      "outputs": []
    },
    {
      "cell_type": "code",
      "source": [
        "from vosk import Model,KaldiRecognizer\n",
        "#import pyaudio"
      ],
      "metadata": {
        "id": "g8NN4qYD-z0v"
      },
      "execution_count": null,
      "outputs": []
    },
    {
      "cell_type": "code",
      "source": [
        "model=Model(\"/content/drive/MyDrive/Translat/vosk-model-small-hi-0.22\")\n",
        "recognizer=KaldiRecognizer(model,16000)\n"
      ],
      "metadata": {
        "id": "Q8rsxe68_5yz"
      },
      "execution_count": null,
      "outputs": []
    },
    {
      "cell_type": "code",
      "source": [
        "import wave\n",
        "from vosk import Model, KaldiRecognizer, SetLogLevel\n",
        "# open audio file\n",
        "wf = wave.open(filename, \"rb\")\n",
        "\n",
        "# Initialize model\n",
        "# You can find several models at https://alphacephei.com/vosk/models\n",
        "rec = KaldiRecognizer(model, wf.getframerate())"
      ],
      "metadata": {
        "id": "GA35ieeFAB5k"
      },
      "execution_count": null,
      "outputs": []
    },
    {
      "cell_type": "code",
      "source": [
        "import json\n",
        "\n",
        "# To store our results\n",
        "transcription = []\n",
        "\n",
        "#rec.SetWords(True)\n",
        "\n",
        "while True:\n",
        "    data = wf.readframes(4000)\n",
        "    if len(data) == 0:\n",
        "        break\n",
        "    if rec.AcceptWaveform(data):\n",
        "        # Convert json output to dict\n",
        "        result_dict = json.loads(rec.Result())\n",
        "        # Extract text values and append them to transcription list\n",
        "        transcription.append(result_dict.get(\"text\", \"\"))\n",
        "\n",
        "# Get final bits of audio and flush the pipeline\n",
        "final_result = json.loads(rec.FinalResult())\n",
        "transcription.append(final_result.get(\"text\", \"\"))\n",
        "\n",
        "# merge or join all list elements to one big string\n",
        "transcription_text = ' '.join(transcription)\n",
        "print(transcription_text)"
      ],
      "metadata": {
        "colab": {
          "base_uri": "https://localhost:8080/"
        },
        "id": "1BbPnEd8AFvf",
        "outputId": "93609e23-91b3-4432-d9fb-3d93dc5992c4"
      },
      "execution_count": null,
      "outputs": [
        {
          "output_type": "stream",
          "name": "stdout",
          "text": [
            "बंगाल की खाड़ी के शीर्ष तट से एक सौ अस्सी किलोमीटर दूर होगी नदी के बाएं किनारे पर स्थित कोलकाता पश्चिम बंगाल की राजधानी है\n"
          ]
        }
      ]
    },
    {
      "cell_type": "code",
      "source": [
        "pip install transformers"
      ],
      "metadata": {
        "colab": {
          "base_uri": "https://localhost:8080/"
        },
        "id": "-6su9rrIASQO",
        "outputId": "d2fbc870-9f3a-49df-ea57-6201dd1493be"
      },
      "execution_count": null,
      "outputs": [
        {
          "output_type": "stream",
          "name": "stdout",
          "text": [
            "Looking in indexes: https://pypi.org/simple, https://us-python.pkg.dev/colab-wheels/public/simple/\n",
            "Requirement already satisfied: transformers in /usr/local/lib/python3.7/dist-packages (4.24.0)\n",
            "Requirement already satisfied: filelock in /usr/local/lib/python3.7/dist-packages (from transformers) (3.8.0)\n",
            "Requirement already satisfied: regex!=2019.12.17 in /usr/local/lib/python3.7/dist-packages (from transformers) (2022.6.2)\n",
            "Requirement already satisfied: tokenizers!=0.11.3,<0.14,>=0.11.1 in /usr/local/lib/python3.7/dist-packages (from transformers) (0.13.2)\n",
            "Requirement already satisfied: tqdm>=4.27 in /usr/local/lib/python3.7/dist-packages (from transformers) (4.64.1)\n",
            "Requirement already satisfied: requests in /usr/local/lib/python3.7/dist-packages (from transformers) (2.23.0)\n",
            "Requirement already satisfied: packaging>=20.0 in /usr/local/lib/python3.7/dist-packages (from transformers) (21.3)\n",
            "Requirement already satisfied: importlib-metadata in /usr/local/lib/python3.7/dist-packages (from transformers) (4.13.0)\n",
            "Requirement already satisfied: pyyaml>=5.1 in /usr/local/lib/python3.7/dist-packages (from transformers) (6.0)\n",
            "Requirement already satisfied: numpy>=1.17 in /usr/local/lib/python3.7/dist-packages (from transformers) (1.21.6)\n",
            "Requirement already satisfied: huggingface-hub<1.0,>=0.10.0 in /usr/local/lib/python3.7/dist-packages (from transformers) (0.11.1)\n",
            "Requirement already satisfied: typing-extensions>=3.7.4.3 in /usr/local/lib/python3.7/dist-packages (from huggingface-hub<1.0,>=0.10.0->transformers) (4.1.1)\n",
            "Requirement already satisfied: pyparsing!=3.0.5,>=2.0.2 in /usr/local/lib/python3.7/dist-packages (from packaging>=20.0->transformers) (3.0.9)\n",
            "Requirement already satisfied: zipp>=0.5 in /usr/local/lib/python3.7/dist-packages (from importlib-metadata->transformers) (3.10.0)\n",
            "Requirement already satisfied: urllib3!=1.25.0,!=1.25.1,<1.26,>=1.21.1 in /usr/local/lib/python3.7/dist-packages (from requests->transformers) (1.24.3)\n",
            "Requirement already satisfied: idna<3,>=2.5 in /usr/local/lib/python3.7/dist-packages (from requests->transformers) (2.10)\n",
            "Requirement already satisfied: certifi>=2017.4.17 in /usr/local/lib/python3.7/dist-packages (from requests->transformers) (2022.9.24)\n",
            "Requirement already satisfied: chardet<4,>=3.0.2 in /usr/local/lib/python3.7/dist-packages (from requests->transformers) (3.0.4)\n"
          ]
        }
      ]
    },
    {
      "cell_type": "code",
      "source": [
        "pip install typing"
      ],
      "metadata": {
        "colab": {
          "base_uri": "https://localhost:8080/"
        },
        "id": "3Zu9MIMfBOlY",
        "outputId": "ca95c58d-e24c-4b76-c5fd-f70171e8ca6f"
      },
      "execution_count": null,
      "outputs": [
        {
          "output_type": "stream",
          "name": "stdout",
          "text": [
            "Looking in indexes: https://pypi.org/simple, https://us-python.pkg.dev/colab-wheels/public/simple/\n",
            "Requirement already satisfied: typing in /usr/local/lib/python3.7/dist-packages (3.7.4.3)\n"
          ]
        }
      ]
    },
    {
      "cell_type": "code",
      "source": [
        "from transformers import MarianMTModel, MarianTokenizer\n",
        "from typing import Sequence\n",
        "\n",
        "class Translator:\n",
        "    def __init__(self, source_lang: str, dest_lang: str) -> None:\n",
        "        self.model_name = f'Helsinki-NLP/opus-mt-{source_lang}-{dest_lang}'\n",
        "        self.model = MarianMTModel.from_pretrained(self.model_name)\n",
        "        self.tokenizer = MarianTokenizer.from_pretrained(self.model_name)\n",
        "               \n",
        "    def translate(self, texts: Sequence[str]) -> Sequence[str]:\n",
        "        tokens = self.tokenizer(list(texts), return_tensors=\"pt\", padding=True)\n",
        "        translate_tokens = self.model.generate(**tokens)\n",
        "        return [self.tokenizer.decode(t, skip_special_tokens=True) for t in translate_tokens]\n",
        "        \n",
        "marian_ru_en = Translator('hi','en')\n",
        "p=marian_ru_en.translate([transcription_text])\n",
        "p"
      ],
      "metadata": {
        "colab": {
          "base_uri": "https://localhost:8080/"
        },
        "id": "4ID_jXvRAuMZ",
        "outputId": "8c69ed9c-b479-4854-83fb-21bd1b668d7b"
      },
      "execution_count": null,
      "outputs": [
        {
          "output_type": "stream",
          "name": "stderr",
          "text": [
            "/usr/local/lib/python3.7/dist-packages/transformers/generation_utils.py:1364: UserWarning: Neither `max_length` nor `max_new_tokens` has been set, `max_length` will default to 512 (`self.config.max_length`). Controlling `max_length` via the config is deprecated and `max_length` will be removed from the config in v5 of Transformers -- we recommend using `max_new_tokens` to control the maximum length of the generation.\n",
            "  UserWarning,\n"
          ]
        },
        {
          "output_type": "execute_result",
          "data": {
            "text/plain": [
              "['The top coast of Bengal will be an hundred and eighty miles [90 km] from the top of the river on the left side of the river.']"
            ]
          },
          "metadata": {},
          "execution_count": 10
        }
      ]
    },
    {
      "cell_type": "code",
      "source": [
        "pip install sacremoses"
      ],
      "metadata": {
        "colab": {
          "base_uri": "https://localhost:8080/"
        },
        "id": "X1iu1NwYH5Wi",
        "outputId": "fd95c01f-e235-47cd-ab1b-6f017cd2abc4"
      },
      "execution_count": null,
      "outputs": [
        {
          "output_type": "stream",
          "name": "stdout",
          "text": [
            "Looking in indexes: https://pypi.org/simple, https://us-python.pkg.dev/colab-wheels/public/simple/\n",
            "Requirement already satisfied: sacremoses in /usr/local/lib/python3.7/dist-packages (0.0.53)\n",
            "Requirement already satisfied: six in /usr/local/lib/python3.7/dist-packages (from sacremoses) (1.15.0)\n",
            "Requirement already satisfied: tqdm in /usr/local/lib/python3.7/dist-packages (from sacremoses) (4.64.1)\n",
            "Requirement already satisfied: click in /usr/local/lib/python3.7/dist-packages (from sacremoses) (7.1.2)\n",
            "Requirement already satisfied: regex in /usr/local/lib/python3.7/dist-packages (from sacremoses) (2022.6.2)\n",
            "Requirement already satisfied: joblib in /usr/local/lib/python3.7/dist-packages (from sacremoses) (1.2.0)\n"
          ]
        }
      ]
    },
    {
      "cell_type": "code",
      "source": [
        "pip install sentencepiece"
      ],
      "metadata": {
        "colab": {
          "base_uri": "https://localhost:8080/"
        },
        "id": "QDvMQYR-Ge_L",
        "outputId": "d7a84b7c-925d-409a-c3c9-d236aa843713"
      },
      "execution_count": null,
      "outputs": [
        {
          "output_type": "stream",
          "name": "stdout",
          "text": [
            "Looking in indexes: https://pypi.org/simple, https://us-python.pkg.dev/colab-wheels/public/simple/\n",
            "Requirement already satisfied: sentencepiece in /usr/local/lib/python3.7/dist-packages (0.1.96)\n"
          ]
        }
      ]
    },
    {
      "cell_type": "code",
      "source": [],
      "metadata": {
        "id": "XVGIgQIyCF-e"
      },
      "execution_count": null,
      "outputs": []
    },
    {
      "cell_type": "code",
      "source": [
        "marian_es = Translator('en', 'es') #spanish\n",
        "marian_es.translate(p)"
      ],
      "metadata": {
        "colab": {
          "base_uri": "https://localhost:8080/"
        },
        "id": "74XYZFkJIKX-",
        "outputId": "0fd66d88-69f1-456d-f818-cb56f22ed0bd"
      },
      "execution_count": null,
      "outputs": [
        {
          "output_type": "execute_result",
          "data": {
            "text/plain": [
              "['La costa superior de Bengala estará a 90 kilómetros de la cima del río, en el lado izquierdo del río.']"
            ]
          },
          "metadata": {},
          "execution_count": 29
        }
      ]
    },
    {
      "cell_type": "code",
      "source": [
        "marian_ar = Translator('en','ar') #Arabic\n",
        "marian_ar.translate(p)"
      ],
      "metadata": {
        "colab": {
          "base_uri": "https://localhost:8080/"
        },
        "id": "_DZznXo3Icbw",
        "outputId": "2d2c7d82-7460-4051-ce51-b40d5322a9da"
      },
      "execution_count": null,
      "outputs": [
        {
          "output_type": "execute_result",
          "data": {
            "text/plain": [
              "['سيكون الساحل الاقصى لبنڠال على بعد ٩٠ كيلومترا من اعلى النهر على الجانب الايسر من النهر.']"
            ]
          },
          "metadata": {},
          "execution_count": 14
        }
      ]
    },
    {
      "cell_type": "code",
      "source": [
        "marian_de = Translator('en','de') #german\n",
        "marian_de.translate(p)"
      ],
      "metadata": {
        "colab": {
          "base_uri": "https://localhost:8080/"
        },
        "id": "GzDsQp-4WTwA",
        "outputId": "7ad6c904-6f7c-4cdb-bd25-c92acf7bbd37"
      },
      "execution_count": null,
      "outputs": [
        {
          "output_type": "execute_result",
          "data": {
            "text/plain": [
              "['Die obere Küste Bengals wird 90 Kilometer von der Spitze des Flusses auf der linken Seite des Flusses entfernt sein.']"
            ]
          },
          "metadata": {},
          "execution_count": 15
        }
      ]
    },
    {
      "cell_type": "code",
      "source": [
        "marian_ru = Translator('en','ru') #russian\n",
        "marian_ru.translate(p)"
      ],
      "metadata": {
        "colab": {
          "base_uri": "https://localhost:8080/"
        },
        "id": "a4PhFCLoWxLp",
        "outputId": "6f12b2da-178e-44f6-fc9a-8227e3aa583f"
      },
      "execution_count": null,
      "outputs": [
        {
          "output_type": "execute_result",
          "data": {
            "text/plain": [
              "['Верхнее побережье Бенгалии будет находиться в 90 километрах от вершины реки на левой стороне реки.']"
            ]
          },
          "metadata": {},
          "execution_count": 16
        }
      ]
    },
    {
      "cell_type": "code",
      "source": [
        "marian_ru_en = Translator('en','it') #italian\n",
        "marian_ru_en.translate(p)"
      ],
      "metadata": {
        "colab": {
          "base_uri": "https://localhost:8080/"
        },
        "id": "_yvOd0lRW-X7",
        "outputId": "6192d0a2-0fe6-4179-dcc9-04fdcbeca060"
      },
      "execution_count": null,
      "outputs": [
        {
          "output_type": "execute_result",
          "data": {
            "text/plain": [
              "['La costa superiore del Bengala sarà di 100 e ottanta miglia [90 km] dalla cima del fiume sul lato sinistro del fiume.']"
            ]
          },
          "metadata": {},
          "execution_count": 17
        }
      ]
    },
    {
      "cell_type": "code",
      "source": [
        "marian_zh = Translator('en','zh') #chinese\n",
        "marian_zh.translate(p)"
      ],
      "metadata": {
        "colab": {
          "base_uri": "https://localhost:8080/"
        },
        "id": "T77NzpHnXQBn",
        "outputId": "f625eb1b-ba96-44d2-b2c5-6a7740fc18d2"
      },
      "execution_count": null,
      "outputs": [
        {
          "output_type": "execute_result",
          "data": {
            "text/plain": [
              "['Bengal最上方的海岸距离河左岸河流最上方一百八十英里[90公里]。']"
            ]
          },
          "metadata": {},
          "execution_count": 18
        }
      ]
    },
    {
      "cell_type": "code",
      "source": [
        "marian_fr = Translator('en','fr') #french\n",
        "marian_fr.translate(p) "
      ],
      "metadata": {
        "colab": {
          "base_uri": "https://localhost:8080/"
        },
        "id": "Zn9IZ7AAKPZT",
        "outputId": "8bb128a9-a63b-41ac-fdcb-81e3ecdf0705"
      },
      "execution_count": null,
      "outputs": [
        {
          "output_type": "execute_result",
          "data": {
            "text/plain": [
              "['Le haut de la côte du Bengale sera à 90 kilomètres du haut de la rivière, du côté gauche de la rivière.']"
            ]
          },
          "metadata": {},
          "execution_count": 19
        }
      ]
    },
    {
      "cell_type": "markdown",
      "source": [
        "Want to Create a model That will translate language \" Translation Model\"  So the languages I want to use in order to create a model are Arabic, Chinese traditional, german, English , Spanish, french, Hindi, Russian, Italian ,Portuguese.  \n",
        "\n",
        "1) From the 'name.wav' file, will read a language that means \"SPEECH TO TEXT\" \n",
        "\n",
        "2) We will print the speech from the name.wav file  \n",
        "\n",
        "3) choose the language you want to Translate in our case I mentioned above { choose one}  \n",
        "\n",
        "4) We will print from number 2) and translate it and print it that means \" TEXT TO TRANSLATE\"  \n",
        "\n",
        "5) Translated text to speech that means again \"TEXT(Translated text) TO SPEECH\""
      ],
      "metadata": {
        "id": "AQdD2JHqCTRV"
      }
    },
    {
      "cell_type": "code",
      "source": [
        "print(\" Please enter \\n 1. Arabic \\n 2. Chinese\\n 3. German \\n 4. English \\n 5. Spanish \\n 6. French \\n 7. Hindi \\n8. Russian \\n9. Italian \\n \")\n",
        "#print(m)\n",
        "while True:\n",
        "  m=int(input(\"Enter any input from 1 to 9 \\n\"))\n",
        "  if m==1:\n",
        "    marian_en = Translator('en','ar') #arabic\n",
        "    cm=marian_en.translate(p)\n",
        "    print(cm)\n",
        "    break\n",
        "  elif m==2:\n",
        "    marian_en = Translator('en','zh') #Chinese\n",
        "    cm=marian_en.translate(p) \n",
        "    print(cm)\n",
        "    break\n",
        "  elif m==3:\n",
        "    marian_en = Translator('en','de') #german\n",
        "    cm=marian_en.translate(p)\n",
        "    print(cm)\n",
        "    break\n",
        "  elif m==4:\n",
        "    cm=p\n",
        "    print(cm)\n",
        "    break\n",
        "  elif m==5:\n",
        "    marian_en = Translator('en','es') #spanish\n",
        "    cm=marian_en.translate(p)\n",
        "    print(cm)\n",
        "    break\n",
        "  elif m==6:\n",
        "    marian_en = Translator('en','fr') #france\n",
        "    cm=marian_en.translate(p)\n",
        "    print(cm)\n",
        "    break\n",
        "  elif m==7:\n",
        "    marian_en = Translator('en','hi') #hindi\n",
        "    cm=marian_en.translate(p) \n",
        "    print(transcription_text)\n",
        "    break\n",
        "  elif m==8:\n",
        "    marian_en = Translator('en','ru') #russian\n",
        "    cm=marian_en.translate(p)\n",
        "    print(cm)\n",
        "    break\n",
        "  elif m==9:\n",
        "    marian_en = Translator('en','it') #italian\n",
        "    cm=marian_en.translate(p)\n",
        "    print(cm)\n",
        "    break\n",
        "  else :\n",
        "    print(\"Please enter correct input\")\n",
        "    continue\n",
        "    "
      ],
      "metadata": {
        "colab": {
          "base_uri": "https://localhost:8080/"
        },
        "id": "BPK3KdN4bHGG",
        "outputId": "86f38d75-b8da-4328-a03e-a4a77e7643e7"
      },
      "execution_count": 102,
      "outputs": [
        {
          "name": "stdout",
          "output_type": "stream",
          "text": [
            " Please enter \n",
            " 1. Arabic \n",
            " 2. Chinese\n",
            " 3. German \n",
            " 4. English \n",
            " 5. Spanish \n",
            " 6. French \n",
            " 7. Hindi \n",
            "8. Russian \n",
            "9. Italian \n",
            " \n",
            "Enter any input from 1 to 9 \n",
            "1\n"
          ]
        },
        {
          "output_type": "stream",
          "name": "stderr",
          "text": [
            "/usr/local/lib/python3.7/dist-packages/transformers/generation_utils.py:1364: UserWarning: Neither `max_length` nor `max_new_tokens` has been set, `max_length` will default to 512 (`self.config.max_length`). Controlling `max_length` via the config is deprecated and `max_length` will be removed from the config in v5 of Transformers -- we recommend using `max_new_tokens` to control the maximum length of the generation.\n",
            "  UserWarning,\n"
          ]
        },
        {
          "output_type": "stream",
          "name": "stdout",
          "text": [
            "['سيكون الساحل الاقصى لبنڠال على بعد ٩٠ كيلومترا من اعلى النهر على الجانب الايسر من النهر.']\n"
          ]
        }
      ]
    },
    {
      "cell_type": "code",
      "source": [
        "pip install pyttsx3"
      ],
      "metadata": {
        "colab": {
          "base_uri": "https://localhost:8080/"
        },
        "id": "gcxsCja-Oh6w",
        "outputId": "1220146c-9736-4967-f129-90e8178a7363"
      },
      "execution_count": 44,
      "outputs": [
        {
          "output_type": "stream",
          "name": "stdout",
          "text": [
            "Looking in indexes: https://pypi.org/simple, https://us-python.pkg.dev/colab-wheels/public/simple/\n",
            "Collecting pyttsx3\n",
            "  Downloading pyttsx3-2.90-py3-none-any.whl (39 kB)\n",
            "Installing collected packages: pyttsx3\n",
            "Successfully installed pyttsx3-2.90\n"
          ]
        }
      ]
    },
    {
      "cell_type": "code",
      "source": [
        "engine.say('Welcome to Medium')\n",
        "engine.runAndWait()"
      ],
      "metadata": {
        "id": "KVnSTcna6vav"
      },
      "execution_count": 68,
      "outputs": []
    },
    {
      "cell_type": "code",
      "source": [
        "pip install epitran"
      ],
      "metadata": {
        "colab": {
          "base_uri": "https://localhost:8080/"
        },
        "id": "4BlhK-kFB5hi",
        "outputId": "931d5718-1fff-49d6-aef2-1b65e01d7a39"
      },
      "execution_count": 74,
      "outputs": [
        {
          "output_type": "stream",
          "name": "stdout",
          "text": [
            "Looking in indexes: https://pypi.org/simple, https://us-python.pkg.dev/colab-wheels/public/simple/\n",
            "Collecting epitran\n",
            "  Downloading epitran-1.24-py2.py3-none-any.whl (164 kB)\n",
            "\u001b[K     |████████████████████████████████| 164 kB 4.2 MB/s \n",
            "\u001b[?25hRequirement already satisfied: requests in /usr/local/lib/python3.7/dist-packages (from epitran) (2.23.0)\n",
            "Requirement already satisfied: regex in /usr/local/lib/python3.7/dist-packages (from epitran) (2022.6.2)\n",
            "Collecting marisa-trie\n",
            "  Downloading marisa_trie-0.7.8-cp37-cp37m-manylinux_2_17_x86_64.manylinux2014_x86_64.whl (1.2 MB)\n",
            "\u001b[K     |████████████████████████████████| 1.2 MB 25.1 MB/s \n",
            "\u001b[?25hRequirement already satisfied: setuptools in /usr/local/lib/python3.7/dist-packages (from epitran) (57.4.0)\n",
            "Collecting panphon>=0.20\n",
            "  Downloading panphon-0.20.0-py2.py3-none-any.whl (73 kB)\n",
            "\u001b[K     |████████████████████████████████| 73 kB 1.1 MB/s \n",
            "\u001b[?25hRequirement already satisfied: PyYAML in /usr/local/lib/python3.7/dist-packages (from panphon>=0.20->epitran) (6.0)\n",
            "Collecting munkres\n",
            "  Downloading munkres-1.1.4-py2.py3-none-any.whl (7.0 kB)\n",
            "Requirement already satisfied: editdistance in /usr/local/lib/python3.7/dist-packages (from panphon>=0.20->epitran) (0.5.3)\n",
            "Collecting unicodecsv\n",
            "  Downloading unicodecsv-0.14.1.tar.gz (10 kB)\n",
            "Requirement already satisfied: numpy>=1.20.2 in /usr/local/lib/python3.7/dist-packages (from panphon>=0.20->epitran) (1.21.6)\n",
            "Requirement already satisfied: urllib3!=1.25.0,!=1.25.1,<1.26,>=1.21.1 in /usr/local/lib/python3.7/dist-packages (from requests->epitran) (1.24.3)\n",
            "Requirement already satisfied: idna<3,>=2.5 in /usr/local/lib/python3.7/dist-packages (from requests->epitran) (2.10)\n",
            "Requirement already satisfied: chardet<4,>=3.0.2 in /usr/local/lib/python3.7/dist-packages (from requests->epitran) (3.0.4)\n",
            "Requirement already satisfied: certifi>=2017.4.17 in /usr/local/lib/python3.7/dist-packages (from requests->epitran) (2022.9.24)\n",
            "Building wheels for collected packages: unicodecsv\n",
            "  Building wheel for unicodecsv (setup.py) ... \u001b[?25l\u001b[?25hdone\n",
            "  Created wheel for unicodecsv: filename=unicodecsv-0.14.1-py3-none-any.whl size=10766 sha256=ddeee3ad31bce6a0b83fb6f99415dddbdead7f6544697c0fff1ac0796c98a091\n",
            "  Stored in directory: /root/.cache/pip/wheels/1a/f4/8a/a5024fb77b32ed369e5c409081e5f00fbe3b92fdad653f6e69\n",
            "Successfully built unicodecsv\n",
            "Installing collected packages: unicodecsv, munkres, panphon, marisa-trie, epitran\n",
            "Successfully installed epitran-1.24 marisa-trie-0.7.8 munkres-1.1.4 panphon-0.20.0 unicodecsv-0.14.1\n"
          ]
        }
      ]
    },
    {
      "cell_type": "code",
      "source": [
        "import epitran\n",
        "epitran.download.cedict()"
      ],
      "metadata": {
        "id": "T6InmcT1Ko8O"
      },
      "execution_count": 77,
      "outputs": []
    },
    {
      "cell_type": "code",
      "source": [
        "from epitran.backoff import Backoff\n",
        "backoff = Backoff(['ara-Arab','cmn-Hans','deu-Latn','eng-Latn','spa-Latn','rus-Cyrl','fra-Latn','hin-Deva','ita-Latn'], cedict_file=None)\n",
        "backoff.transliterate(cm[0])"
      ],
      "metadata": {
        "colab": {
          "base_uri": "https://localhost:8080/",
          "height": 36
        },
        "id": "fjroPR2F65VO",
        "outputId": "bcce3d8e-e59b-4558-8f1b-ebea9f8ff647"
      },
      "execution_count": 103,
      "outputs": [
        {
          "output_type": "execute_result",
          "data": {
            "text/plain": [
              "'siːkuːn alsaːħl alaːqsˤى lbnڠal ʕlى bʕd ٩٠ kiːluːmtraː mn aʕlى alnhr ʕlى ald͡ʒaːnb alaːiːsr mn alnhr.'"
            ],
            "application/vnd.google.colaboratory.intrinsic+json": {
              "type": "string"
            }
          },
          "metadata": {},
          "execution_count": 103
        }
      ]
    }
  ]
}